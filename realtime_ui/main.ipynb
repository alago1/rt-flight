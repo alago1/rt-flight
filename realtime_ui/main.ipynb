{
 "cells": [
  {
   "cell_type": "code",
   "execution_count": 33,
   "metadata": {},
   "outputs": [],
   "source": [
    "import smopy #pip install smopy\n",
    "%matplotlib inline"
   ]
  },
  {
   "cell_type": "code",
   "execution_count": 34,
   "metadata": {},
   "outputs": [
    {
     "ename": "SyntaxError",
     "evalue": "invalid syntax (<ipython-input-34-e3a8192dc1d7>, line 11)",
     "output_type": "error",
     "traceback": [
      "\u001b[0;36m  File \u001b[0;32m\"<ipython-input-34-e3a8192dc1d7>\"\u001b[0;36m, line \u001b[0;32m11\u001b[0m\n\u001b[0;31m    ax.plot(x, y, 'or', ms=25, mew=2, alpha=0.5 color=\"purple\");\u001b[0m\n\u001b[0m                                                ^\u001b[0m\n\u001b[0;31mSyntaxError\u001b[0m\u001b[0;31m:\u001b[0m invalid syntax\n"
     ]
    }
   ],
   "source": [
    "#TODO: Get initial GPS coordinate from first image\n",
    "#TODO: Create 50ish mile grid around first image\n",
    "\n",
    "map = smopy.Map((29.6167, -82.3815, 29.6734, -82.3061), z=20)\n",
    "\n",
    "x, y = map.to_pixels(29.6471, -82.3477)\n",
    "x1, y1 = map.to_pixels(29.637, -82.332)\n",
    "x2, y2 = map.to_pixels(29.6519, -82.3654)\n",
    "\n",
    "ax = map.show_mpl(figsize=(10, 10))\n",
    "ax.plot(x, y, 'or', ms=25, mew=2, alpha=0.5, color=\"purple\");\n",
    "ax.plot(x1, y1, 'or', ms=25, mew=2, alpha=0.5, color=\"purple\");\n",
    "ax.plot(x2, y2, 'or', ms=25, mew=2, alpha=0.5, color=\"purple\");"
   ]
  },
  {
   "cell_type": "code",
   "execution_count": null,
   "metadata": {},
   "outputs": [],
   "source": []
  }
 ],
 "metadata": {
  "kernelspec": {
   "display_name": "Python 3",
   "language": "python",
   "name": "python3"
  },
  "language_info": {
   "codemirror_mode": {
    "name": "ipython",
    "version": 3
   },
   "file_extension": ".py",
   "mimetype": "text/x-python",
   "name": "python",
   "nbconvert_exporter": "python",
   "pygments_lexer": "ipython3",
   "version": "3.9.10"
  },
  "orig_nbformat": 4,
  "vscode": {
   "interpreter": {
    "hash": "aee8b7b246df8f9039afb4144a1f6fd8d2ca17a180786b69acc140d282b71a49"
   }
  }
 },
 "nbformat": 4,
 "nbformat_minor": 2
}
