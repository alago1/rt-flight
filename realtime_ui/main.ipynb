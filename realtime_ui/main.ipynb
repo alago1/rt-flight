{
 "cells": [
  {
   "cell_type": "code",
   "execution_count": 2,
   "metadata": {},
   "outputs": [],
   "source": [
    "import smopy #pip install smopy\n",
    "%matplotlib inline"
   ]
  },
  {
   "cell_type": "code",
   "execution_count": 1,
   "metadata": {},
   "outputs": [
    {
     "ename": "NameError",
     "evalue": "name 'smopy' is not defined",
     "output_type": "error",
     "traceback": [
      "\u001b[0;31m---------------------------------------------------------------------------\u001b[0m",
      "\u001b[0;31mNameError\u001b[0m                                 Traceback (most recent call last)",
      "Cell \u001b[0;32mIn[1], line 3\u001b[0m\n\u001b[1;32m      1\u001b[0m \u001b[39m#TODO: Get initial GPS coordinate from first image\u001b[39;00m\n\u001b[0;32m----> 3\u001b[0m \u001b[39mmap\u001b[39m \u001b[39m=\u001b[39m smopy\u001b[39m.\u001b[39mMap((\u001b[39m48.\u001b[39m, \u001b[39m-\u001b[39m\u001b[39m1.\u001b[39m, \u001b[39m52.\u001b[39m, \u001b[39m3.\u001b[39m), z\u001b[39m=\u001b[39m\u001b[39m4\u001b[39m)\n\u001b[1;32m      7\u001b[0m x, y \u001b[39m=\u001b[39m \u001b[39mmap\u001b[39m\u001b[39m.\u001b[39mto_pixels(\u001b[39m48.86151\u001b[39m, \u001b[39m2.33474\u001b[39m)\n\u001b[1;32m      9\u001b[0m ax \u001b[39m=\u001b[39m \u001b[39mmap\u001b[39m\u001b[39m.\u001b[39mshow_mpl(figsize\u001b[39m=\u001b[39m(\u001b[39m8\u001b[39m, \u001b[39m6\u001b[39m))\n",
      "\u001b[0;31mNameError\u001b[0m: name 'smopy' is not defined"
     ]
    }
   ],
   "source": [
    "#TODO: Get initial GPS coordinate from first image\n",
    "#TODO: Create 50ish mile grid around first image\n",
    "\n",
    "map = smopy.Map((48., -1., 52., 3.), z=4)\n",
    "\n",
    "\n",
    "\n",
    "x, y = map.to_pixels(48.86151, 2.33474)\n",
    "\n",
    "ax = map.show_mpl(figsize=(8, 6))\n",
    "ax.plot(x, y, 'or', ms=10, mew=2);"
   ]
  },
  {
   "cell_type": "code",
   "execution_count": null,
   "metadata": {},
   "outputs": [],
   "source": []
  }
 ],
 "metadata": {
  "kernelspec": {
   "display_name": "Python 3",
   "language": "python",
   "name": "python3"
  },
  "language_info": {
   "codemirror_mode": {
    "name": "ipython",
    "version": 3
   },
   "file_extension": ".py",
   "mimetype": "text/x-python",
   "name": "python",
   "nbconvert_exporter": "python",
   "pygments_lexer": "ipython3",
   "version": "3.9.10"
  },
  "orig_nbformat": 4,
  "vscode": {
   "interpreter": {
    "hash": "aee8b7b246df8f9039afb4144a1f6fd8d2ca17a180786b69acc140d282b71a49"
   }
  }
 },
 "nbformat": 4,
 "nbformat_minor": 2
}
