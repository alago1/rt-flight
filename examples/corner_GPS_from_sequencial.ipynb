{
 "cells": [
  {
   "cell_type": "code",
   "execution_count": null,
   "metadata": {},
   "outputs": [],
   "source": [
    "import exiftool\n",
    "import math"
   ]
  },
  {
   "cell_type": "code",
   "execution_count": null,
   "metadata": {},
   "outputs": [],
   "source": [
    "IMAGE_PATH = \"../data_ignore/sequencial_data/DJI_0001.JPG\"\n",
    "\n",
    "FLIGHT_YAW_KEY = \"XMP:FlightYawDegree\"\n",
    "FOV_KEY = \"Composite:FOV\"\n",
    "IMAGE_HEIGHT_KEY = \"File:ImageHeight\"\n",
    "IMAGE_WIDTH_KEY = \"File:ImageWidth\"\n",
    "LATITUDE_KEY = \"EXIF:GPSLatitude\"\n",
    "LONGITUDE_KEY = \"EXIF:GPSLongitude\"\n",
    "ALTITUDE_KEY = \"EXIF:GPSAltitude\""
   ]
  },
  {
   "cell_type": "code",
   "execution_count": null,
   "metadata": {},
   "outputs": [],
   "source": [
    "with exiftool.ExifToolHelper() as et:\n",
    "    metadata = et.get_metadata(IMAGE_PATH)[0]\n",
    "\n",
    "heading_deg = float(metadata.get(FLIGHT_YAW_KEY)) # Yaw == Heading\n",
    "fov_deg = metadata.get(FOV_KEY)\n",
    "width = metadata.get(IMAGE_WIDTH_KEY)\n",
    "height = metadata.get(IMAGE_HEIGHT_KEY)\n",
    "lat_deg = metadata.get(LATITUDE_KEY)\n",
    "lon_deg = metadata.get(LONGITUDE_KEY)\n",
    "alt = metadata.get(ALTITUDE_KEY)"
   ]
  },
  {
   "cell_type": "code",
   "execution_count": null,
   "metadata": {},
   "outputs": [],
   "source": [
    "\n",
    "\n",
    "def wgs84_to_ecef(lat, lon, alt):\n",
    "    a = 6378137.0 # semi-major axis in meters\n",
    "    b = 6356752.314245 # semi-minor axis in meters\n",
    "    f = (a - b) / a # flattening factor\n",
    "    e_sq = f * (2 - f) # eccentricity squared\n",
    "\n",
    "    n = a / math.sqrt(1 - e_sq * math.sin(lat)**2)\n",
    "    x = (n + alt) * math.cos(lat) * math.cos(lon)\n",
    "    y = (n + alt) * math.cos(lat) * math.sin(lon)\n",
    "    z = (n * (1 - e_sq) + alt) * math.sin(lat)\n",
    "    return x, y, z"
   ]
  },
  {
   "cell_type": "code",
   "execution_count": null,
   "metadata": {},
   "outputs": [],
   "source": [
    "fov_rad = math.radians(fov_deg)\n",
    "\n",
    "half_width = width / 2\n",
    "half_height = height / 2\n",
    "distance = half_width / math.tan(fov_rad / 2)\n",
    "\n",
    "lat_rad = math.radians(lat_deg)\n",
    "lon_rad = math.radians(lon_deg)\n",
    "x, y, z = wgs84_to_ecef(lat_rad, lon_rad, alt)\n",
    "\n"
   ]
  },
  {
   "cell_type": "code",
   "execution_count": null,
   "metadata": {},
   "outputs": [],
   "source": [
    "north = math.cos(math.radians(heading_deg))\n",
    "east = math.sin(math.radians(heading_deg))\n",
    "up = 0\n",
    "dx = distance * north\n",
    "dy = distance * east\n",
    "dz = distance * up\n",
    "corner_x = x + dx\n",
    "corner_y = y + dy\n",
    "corner_z = z + dz"
   ]
  },
  {
   "cell_type": "code",
   "execution_count": null,
   "metadata": {},
   "outputs": [],
   "source": [
    "print(heading)"
   ]
  }
 ],
 "metadata": {
  "language_info": {
   "name": "python"
  },
  "orig_nbformat": 4
 },
 "nbformat": 4,
 "nbformat_minor": 2
}
