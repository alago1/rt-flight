{
 "cells": [
  {
   "attachments": {},
   "cell_type": "markdown",
   "metadata": {},
   "source": [
    "# Stitching Tutorial\n",
    "\n",
    "The Workflow of the Stitching Pipeline can be seen in the following. Note that the image comes from the [OpenCV Documentation](https://docs.opencv.org/3.4/d1/d46/group__stitching.html)."
   ]
  },
  {
   "cell_type": "markdown",
   "metadata": {},
   "source": [
    "With the following block, we allow displaying resulting images within the notebook:"
   ]
  },
  {
   "cell_type": "code",
   "execution_count": 1,
   "metadata": {},
   "outputs": [],
   "source": [
    "import matplotlib.pyplot as plt\n",
    "import cv2 as cv\n",
    "import numpy as np\n",
    "from pathlib import Path\n",
    "\n",
    "from stitching.image_handler import ImageHandler\n",
    "from stitching.feature_detector import FeatureDetector\n",
    "from stitching.feature_matcher import FeatureMatcher\n",
    "from stitching.camera_estimator import CameraEstimator\n",
    "from stitching.camera_adjuster import CameraAdjuster\n",
    "from stitching.camera_wave_corrector import WaveCorrector\n",
    "from stitching.warper import Warper\n",
    "from stitching.timelapser import Timelapser"
   ]
  },
  {
   "cell_type": "code",
   "execution_count": 2,
   "metadata": {},
   "outputs": [],
   "source": [
    "def get_image_paths(img_set):\n",
    "    return sorted([str(path.relative_to('.')) for path in Path('../../data/sequential_training').rglob(img_set)])"
   ]
  },
  {
   "cell_type": "code",
   "execution_count": 6,
   "metadata": {},
   "outputs": [],
   "source": [
    "def get_displacement(img_paths):\n",
    "    img_handler = ImageHandler()\n",
    "    img_handler.set_img_names(img_paths)\n",
    "\n",
    "    medium_imgs = list(img_handler.resize_to_medium_resolution())\n",
    "    final_imgs = list(img_handler.resize_to_final_resolution())\n",
    "\n",
    "    # final_size = img_handler.get_image_size(final_imgs[0])\n",
    "\n",
    "    finder = FeatureDetector()\n",
    "    features = [finder.detect_features(img) for img in medium_imgs]\n",
    "\n",
    "    matcher = FeatureMatcher()\n",
    "    matches = matcher.match_features(features)\n",
    "\n",
    "    camera_estimator = CameraEstimator()\n",
    "    camera_adjuster = CameraAdjuster()\n",
    "    wave_corrector = WaveCorrector()\n",
    "\n",
    "    cameras = camera_estimator.estimate(features, matches)\n",
    "    cameras = camera_adjuster.adjust(features, matches, cameras)\n",
    "    cameras = wave_corrector.correct(cameras)\n",
    "\n",
    "    warper = Warper()\n",
    "    warper.set_scale(cameras)\n",
    "\n",
    "    final_sizes = img_handler.get_final_img_sizes()\n",
    "    camera_aspect = img_handler.get_medium_to_final_ratio()    # since cameras were obtained on medium imgs\n",
    "\n",
    "    warped_final_imgs = list(warper.warp_images(final_imgs, cameras, camera_aspect))\n",
    "    final_corners, final_sizes = warper.warp_rois(final_sizes, cameras, camera_aspect)\n",
    "\n",
    "    def get_first_nonzero_pixel(ndarr):\n",
    "        return np.argwhere(ndarr > 0)[0][:2]\n",
    "\n",
    "    def get_center(corner, size):\n",
    "        return (round(corner[0] + size[1] / 2), round(corner[1] + size[0] / 2))\n",
    "\n",
    "    timelapser = Timelapser('as_is')\n",
    "    timelapser.initialize(final_corners, final_sizes)\n",
    "    centers = []\n",
    "    for img, corner, size in zip(warped_final_imgs, final_corners, final_sizes):\n",
    "        timelapser.process_frame(img, corner)\n",
    "        frame = timelapser.get_frame()\n",
    "        centers.append(get_center(get_first_nonzero_pixel(frame), size))\n",
    "    \n",
    "    centers = np.array(centers)\n",
    "    return centers, np.diff(centers, axis=0)"
   ]
  },
  {
   "cell_type": "code",
   "execution_count": 4,
   "metadata": {},
   "outputs": [],
   "source": [
    "sequential_imgs = get_image_paths('*.jpg')"
   ]
  },
  {
   "cell_type": "code",
   "execution_count": 7,
   "metadata": {},
   "outputs": [
    {
     "name": "stdout",
     "output_type": "stream",
     "text": [
      "(array([[ 114, 4364],\n",
      "       [ 226, 4366],\n",
      "       [ 228, 4531],\n",
      "       [4898, 1248],\n",
      "       [4898,  628]]), array([[  112,     2],\n",
      "       [    2,   165],\n",
      "       [ 4670, -3283],\n",
      "       [    0,  -620]]))\n",
      "(array([[2572, 4024],\n",
      "       [2684, 4022],\n",
      "       [2682, 4172],\n",
      "       [ 278,  290],\n",
      "       [ 278,  581]]), array([[  112,    -2],\n",
      "       [   -2,   150],\n",
      "       [-2404, -3882],\n",
      "       [    0,   291]]))\n",
      "(array([[ 114,  129],\n",
      "       [ 226,  130],\n",
      "       [ 226,  256],\n",
      "       [3316, 4241],\n",
      "       [3316, 4648]]), array([[ 112,    1],\n",
      "       [   0,  126],\n",
      "       [3090, 3985],\n",
      "       [   0,  407]]))\n",
      "(array([[ 485, 6708],\n",
      "       [ 596, 6710],\n",
      "       [ 597, 6834],\n",
      "       [ 228,  548],\n",
      "       [ 228,  273]]), array([[  111,     2],\n",
      "       [    1,   124],\n",
      "       [ -369, -6286],\n",
      "       [    0,  -275]]))\n",
      "(array([[ 114,  188],\n",
      "       [ 226,  192],\n",
      "       [ 228,  371],\n",
      "       [4084, 4354],\n",
      "       [4085, 4670]]), array([[ 112,    4],\n",
      "       [   2,  179],\n",
      "       [3856, 3983],\n",
      "       [   1,  316]]))\n"
     ]
    }
   ],
   "source": [
    "for i in range(5):\n",
    "    print(get_displacement(sequential_imgs[:5]))"
   ]
  }
 ],
 "metadata": {
  "kernelspec": {
   "display_name": "colab",
   "language": "python",
   "name": "python3"
  },
  "language_info": {
   "codemirror_mode": {
    "name": "ipython",
    "version": 3
   },
   "file_extension": ".py",
   "mimetype": "text/x-python",
   "name": "python",
   "nbconvert_exporter": "python",
   "pygments_lexer": "ipython3",
   "version": "3.8.16"
  },
  "toc": {
   "base_numbering": 1,
   "nav_menu": {},
   "number_sections": true,
   "sideBar": true,
   "skip_h1_title": false,
   "title_cell": "Table of Contents",
   "title_sidebar": "Contents",
   "toc_cell": false,
   "toc_position": {
    "height": "calc(100% - 180px)",
    "left": "10px",
    "top": "150px",
    "width": "336px"
   },
   "toc_section_display": true,
   "toc_window_display": true
  },
  "varInspector": {
   "cols": {
    "lenName": 16,
    "lenType": 16,
    "lenVar": 40
   },
   "kernels_config": {
    "python": {
     "delete_cmd_postfix": "",
     "delete_cmd_prefix": "del ",
     "library": "var_list.py",
     "varRefreshCmd": "print(var_dic_list())"
    },
    "r": {
     "delete_cmd_postfix": ") ",
     "delete_cmd_prefix": "rm(",
     "library": "var_list.r",
     "varRefreshCmd": "cat(var_dic_list()) "
    }
   },
   "types_to_exclude": [
    "module",
    "function",
    "builtin_function_or_method",
    "instance",
    "_Feature"
   ],
   "window_display": false
  },
  "vscode": {
   "interpreter": {
    "hash": "8abf9bbe28e4c81cd50df63cd7889755b2a3ffe62ee65943b7562c9a5a92ef47"
   }
  }
 },
 "nbformat": 4,
 "nbformat_minor": 4
}
