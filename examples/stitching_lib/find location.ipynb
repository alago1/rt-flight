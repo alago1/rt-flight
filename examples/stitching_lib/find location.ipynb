{
 "cells": [
  {
   "attachments": {},
   "cell_type": "markdown",
   "metadata": {},
   "source": [
    "# Stitching Tutorial\n",
    "\n",
    "The Workflow of the Stitching Pipeline can be seen in the following. Note that the image comes from the [OpenCV Documentation](https://docs.opencv.org/3.4/d1/d46/group__stitching.html)."
   ]
  },
  {
   "cell_type": "markdown",
   "metadata": {},
   "source": [
    "With the following block, we allow displaying resulting images within the notebook:"
   ]
  },
  {
   "cell_type": "code",
   "execution_count": 1,
   "metadata": {},
   "outputs": [],
   "source": [
    "import matplotlib.pyplot as plt\n",
    "import cv2 as cv\n",
    "import numpy as np\n",
    "from pathlib import Path\n",
    "\n",
    "from stitching.image_handler import ImageHandler\n",
    "from stitching.feature_detector import FeatureDetector\n",
    "from stitching.feature_matcher import FeatureMatcher\n",
    "from stitching.subsetter import Subsetter\n",
    "from stitching.camera_estimator import CameraEstimator\n",
    "from stitching.camera_adjuster import CameraAdjuster\n",
    "from stitching.camera_wave_corrector import WaveCorrector\n",
    "from stitching.warper import Warper\n",
    "from stitching.timelapser import Timelapser"
   ]
  },
  {
   "cell_type": "code",
   "execution_count": 2,
   "metadata": {},
   "outputs": [],
   "source": [
    "def get_image_paths(img_set):\n",
    "    return sorted([str(path.relative_to('.')) for path in Path('../../data/sequential_training').rglob(img_set)])"
   ]
  },
  {
   "cell_type": "code",
   "execution_count": 3,
   "metadata": {},
   "outputs": [],
   "source": [
    "def get_displacement(img_paths):\n",
    "    img_handler = ImageHandler()\n",
    "    img_handler.set_img_names(img_paths)\n",
    "\n",
    "    medium_imgs = list(img_handler.resize_to_medium_resolution())\n",
    "    final_imgs = list(img_handler.resize_to_final_resolution())\n",
    "\n",
    "    finder = FeatureDetector()\n",
    "    features = [finder.detect_features(img) for img in medium_imgs]\n",
    "\n",
    "    matcher = FeatureMatcher()\n",
    "    matches = matcher.match_features(features)\n",
    "\n",
    "    subsetter = Subsetter()\n",
    "\n",
    "    indices = subsetter.get_indices_to_keep(features, matches)\n",
    "\n",
    "    medium_imgs = subsetter.subset_list(medium_imgs, indices)\n",
    "    final_imgs = subsetter.subset_list(final_imgs, indices)\n",
    "    features = subsetter.subset_list(features, indices)\n",
    "    matches = subsetter.subset_matches(matches, indices)\n",
    "\n",
    "    camera_estimator = CameraEstimator()\n",
    "    camera_adjuster = CameraAdjuster()\n",
    "    wave_corrector = WaveCorrector()\n",
    "\n",
    "    cameras = camera_estimator.estimate(features, matches)\n",
    "    cameras = camera_adjuster.adjust(features, matches, cameras)\n",
    "    cameras = wave_corrector.correct(cameras)\n",
    "\n",
    "    warper = Warper()\n",
    "    warper.set_scale(cameras)\n",
    "\n",
    "    final_sizes = img_handler.get_final_img_sizes()\n",
    "    camera_aspect = img_handler.get_medium_to_final_ratio()    # since cameras were obtained on medium imgs\n",
    "\n",
    "    warped_final_imgs = list(warper.warp_images(final_imgs, cameras, camera_aspect))\n",
    "    final_corners, final_sizes = warper.warp_rois(final_sizes, cameras, camera_aspect)\n",
    "\n",
    "    def get_first_nonzero_pixel(ndarr):\n",
    "        return np.argwhere(ndarr > 0)[0][:2]\n",
    "\n",
    "    def get_center(corner, size):\n",
    "        return (round(corner[0] + size[1] / 2), round(corner[1] + size[0] / 2))\n",
    "\n",
    "    timelapser = Timelapser('as_is')\n",
    "    timelapser.initialize(final_corners, final_sizes)\n",
    "    centers = []\n",
    "    for img, corner, size in zip(warped_final_imgs, final_corners, final_sizes):\n",
    "        timelapser.process_frame(img, corner)\n",
    "        frame = timelapser.get_frame()\n",
    "        centers.append(get_center(get_first_nonzero_pixel(frame), size))\n",
    "    \n",
    "    centers = np.array(centers)\n",
    "    return centers, np.diff(centers, axis=0)"
   ]
  },
  {
   "cell_type": "code",
   "execution_count": 4,
   "metadata": {},
   "outputs": [],
   "source": [
    "sequential_imgs = get_image_paths('*.jpg')"
   ]
  },
  {
   "cell_type": "code",
   "execution_count": 20,
   "metadata": {},
   "outputs": [
    {
     "data": {
      "text/plain": [
       "(array([[112, 112],\n",
       "        [224, 112],\n",
       "        [224, 224]]), array([[112,   0],\n",
       "        [  0, 112]]))"
      ]
     },
     "execution_count": 20,
     "metadata": {},
     "output_type": "execute_result"
    }
   ],
   "source": [
    "get_displacement(sequential_imgs[:5])"
   ]
  },
  {
   "cell_type": "code",
   "execution_count": 5,
   "metadata": {},
   "outputs": [
    {
     "ename": "StitchingError",
     "evalue": "No match exceeds the given confidence threshold.",
     "output_type": "error",
     "traceback": [
      "\u001b[0;31m---------------------------------------------------------------------------\u001b[0m",
      "\u001b[0;31mStitchingError\u001b[0m                            Traceback (most recent call last)",
      "\u001b[0;32m<ipython-input-5-78d870da4336>\u001b[0m in \u001b[0;36m<module>\u001b[0;34m\u001b[0m\n\u001b[1;32m      1\u001b[0m \u001b[0mdisps\u001b[0m \u001b[0;34m=\u001b[0m \u001b[0;34m[\u001b[0m\u001b[0;34m]\u001b[0m\u001b[0;34m\u001b[0m\u001b[0;34m\u001b[0m\u001b[0m\n\u001b[1;32m      2\u001b[0m \u001b[0;32mfor\u001b[0m \u001b[0mp1\u001b[0m\u001b[0;34m,\u001b[0m \u001b[0mp2\u001b[0m \u001b[0;32min\u001b[0m \u001b[0mzip\u001b[0m\u001b[0;34m(\u001b[0m\u001b[0msequential_imgs\u001b[0m\u001b[0;34m,\u001b[0m \u001b[0msequential_imgs\u001b[0m\u001b[0;34m[\u001b[0m\u001b[0;36m1\u001b[0m\u001b[0;34m:\u001b[0m\u001b[0;34m]\u001b[0m\u001b[0;34m)\u001b[0m\u001b[0;34m:\u001b[0m\u001b[0;34m\u001b[0m\u001b[0;34m\u001b[0m\u001b[0m\n\u001b[0;32m----> 3\u001b[0;31m     \u001b[0m_\u001b[0m\u001b[0;34m,\u001b[0m \u001b[0mdisp\u001b[0m \u001b[0;34m=\u001b[0m \u001b[0mget_displacement\u001b[0m\u001b[0;34m(\u001b[0m\u001b[0;34m[\u001b[0m\u001b[0mp1\u001b[0m\u001b[0;34m,\u001b[0m \u001b[0mp2\u001b[0m\u001b[0;34m]\u001b[0m\u001b[0;34m)\u001b[0m\u001b[0;34m\u001b[0m\u001b[0;34m\u001b[0m\u001b[0m\n\u001b[0m\u001b[1;32m      4\u001b[0m     \u001b[0mdisps\u001b[0m\u001b[0;34m.\u001b[0m\u001b[0mappend\u001b[0m\u001b[0;34m(\u001b[0m\u001b[0mdisp\u001b[0m\u001b[0;34m)\u001b[0m\u001b[0;34m\u001b[0m\u001b[0;34m\u001b[0m\u001b[0m\n\u001b[1;32m      5\u001b[0m \u001b[0;34m\u001b[0m\u001b[0m\n",
      "\u001b[0;32m<ipython-input-3-ae3a594a8377>\u001b[0m in \u001b[0;36mget_displacement\u001b[0;34m(img_paths)\u001b[0m\n\u001b[1;32m     14\u001b[0m     \u001b[0msubsetter\u001b[0m \u001b[0;34m=\u001b[0m \u001b[0mSubsetter\u001b[0m\u001b[0;34m(\u001b[0m\u001b[0;34m)\u001b[0m\u001b[0;34m\u001b[0m\u001b[0;34m\u001b[0m\u001b[0m\n\u001b[1;32m     15\u001b[0m \u001b[0;34m\u001b[0m\u001b[0m\n\u001b[0;32m---> 16\u001b[0;31m     \u001b[0mindices\u001b[0m \u001b[0;34m=\u001b[0m \u001b[0msubsetter\u001b[0m\u001b[0;34m.\u001b[0m\u001b[0mget_indices_to_keep\u001b[0m\u001b[0;34m(\u001b[0m\u001b[0mfeatures\u001b[0m\u001b[0;34m,\u001b[0m \u001b[0mmatches\u001b[0m\u001b[0;34m)\u001b[0m\u001b[0;34m\u001b[0m\u001b[0;34m\u001b[0m\u001b[0m\n\u001b[0m\u001b[1;32m     17\u001b[0m \u001b[0;34m\u001b[0m\u001b[0m\n\u001b[1;32m     18\u001b[0m     \u001b[0mmedium_imgs\u001b[0m \u001b[0;34m=\u001b[0m \u001b[0msubsetter\u001b[0m\u001b[0;34m.\u001b[0m\u001b[0msubset_list\u001b[0m\u001b[0;34m(\u001b[0m\u001b[0mmedium_imgs\u001b[0m\u001b[0;34m,\u001b[0m \u001b[0mindices\u001b[0m\u001b[0;34m)\u001b[0m\u001b[0;34m\u001b[0m\u001b[0;34m\u001b[0m\u001b[0m\n",
      "\u001b[0;32m~/anaconda3/envs/colab/lib/python3.8/site-packages/stitching/subsetter.py\u001b[0m in \u001b[0;36mget_indices_to_keep\u001b[0;34m(self, features, pairwise_matches)\u001b[0m\n\u001b[1;32m     51\u001b[0m \u001b[0;34m\u001b[0m\u001b[0m\n\u001b[1;32m     52\u001b[0m         \u001b[0;32mif\u001b[0m \u001b[0mlen\u001b[0m\u001b[0;34m(\u001b[0m\u001b[0mindices\u001b[0m\u001b[0;34m)\u001b[0m \u001b[0;34m<\u001b[0m \u001b[0;36m2\u001b[0m\u001b[0;34m:\u001b[0m\u001b[0;34m\u001b[0m\u001b[0;34m\u001b[0m\u001b[0m\n\u001b[0;32m---> 53\u001b[0;31m             \u001b[0;32mraise\u001b[0m \u001b[0mStitchingError\u001b[0m\u001b[0;34m(\u001b[0m\u001b[0;34m\"No match exceeds the \"\u001b[0m \u001b[0;34m\"given confidence threshold.\"\u001b[0m\u001b[0;34m)\u001b[0m\u001b[0;34m\u001b[0m\u001b[0;34m\u001b[0m\u001b[0m\n\u001b[0m\u001b[1;32m     54\u001b[0m \u001b[0;34m\u001b[0m\u001b[0m\n\u001b[1;32m     55\u001b[0m         \u001b[0;32mreturn\u001b[0m \u001b[0mindices\u001b[0m\u001b[0;34m\u001b[0m\u001b[0;34m\u001b[0m\u001b[0m\n",
      "\u001b[0;31mStitchingError\u001b[0m: No match exceeds the given confidence threshold."
     ]
    }
   ],
   "source": [
    "disps = []\n",
    "for p1, p2 in zip(sequential_imgs, sequential_imgs[1:]):\n",
    "    _, disp = get_displacement([p1, p2])\n",
    "    disps.append(disp)\n",
    "\n",
    "disps = np.array(disps)\n",
    "disps"
   ]
  }
 ],
 "metadata": {
  "kernelspec": {
   "display_name": "colab",
   "language": "python",
   "name": "python3"
  },
  "language_info": {
   "codemirror_mode": {
    "name": "ipython",
    "version": 3
   },
   "file_extension": ".py",
   "mimetype": "text/x-python",
   "name": "python",
   "nbconvert_exporter": "python",
   "pygments_lexer": "ipython3",
   "version": "3.8.16"
  },
  "toc": {
   "base_numbering": 1,
   "nav_menu": {},
   "number_sections": true,
   "sideBar": true,
   "skip_h1_title": false,
   "title_cell": "Table of Contents",
   "title_sidebar": "Contents",
   "toc_cell": false,
   "toc_position": {
    "height": "calc(100% - 180px)",
    "left": "10px",
    "top": "150px",
    "width": "336px"
   },
   "toc_section_display": true,
   "toc_window_display": true
  },
  "varInspector": {
   "cols": {
    "lenName": 16,
    "lenType": 16,
    "lenVar": 40
   },
   "kernels_config": {
    "python": {
     "delete_cmd_postfix": "",
     "delete_cmd_prefix": "del ",
     "library": "var_list.py",
     "varRefreshCmd": "print(var_dic_list())"
    },
    "r": {
     "delete_cmd_postfix": ") ",
     "delete_cmd_prefix": "rm(",
     "library": "var_list.r",
     "varRefreshCmd": "cat(var_dic_list()) "
    }
   },
   "types_to_exclude": [
    "module",
    "function",
    "builtin_function_or_method",
    "instance",
    "_Feature"
   ],
   "window_display": false
  },
  "vscode": {
   "interpreter": {
    "hash": "8abf9bbe28e4c81cd50df63cd7889755b2a3ffe62ee65943b7562c9a5a92ef47"
   }
  }
 },
 "nbformat": 4,
 "nbformat_minor": 4
}
