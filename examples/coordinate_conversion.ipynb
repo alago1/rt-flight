{
 "cells": [
  {
   "cell_type": "markdown",
   "id": "ec0d9ee3",
   "metadata": {},
   "source": [
    "Instructions for installing GDAL for Ubuntu: https://mothergeo-py.readthedocs.io/en/latest/development/how-to/gdal-ubuntu-pkg.html\n",
    "\n",
    "The following are the steps detailed in the above article:\n",
    "\n",
    "sudo add-apt-repository ppa:ubuntugis/ppa && sudo apt-get update\n",
    "sudo apt-get update\n",
    "sudo apt-get install gdal-bin\n",
    "sudo apt-get install libgdal-dev\n",
    "export CPLUS_INCLUDE_PATH=/usr/include/gdal\n",
    "export C_INCLUDE_PATH=/usr/include/gdal\n",
    "pip install GDAL\n",
    "\n",
    "\n",
    "I also had to run 'pip install wheel' before installing GDAL"
   ]
  },
  {
   "cell_type": "code",
   "execution_count": 7,
   "id": "f5ab9383",
   "metadata": {},
   "outputs": [],
   "source": [
    "from osgeo import gdal\n",
    "from osgeo import ogr\n",
    "from osgeo import osr"
   ]
  },
  {
   "cell_type": "code",
   "execution_count": 8,
   "id": "2d685609",
   "metadata": {},
   "outputs": [],
   "source": [
    "dataset_path = '/dataset/Copy of Blore_Clean.tif'\n",
    "ds = gdal.Open(dataset_path)"
   ]
  },
  {
   "cell_type": "code",
   "execution_count": 9,
   "id": "6871daaa",
   "metadata": {},
   "outputs": [],
   "source": [
    "# transformation described here: https://arijolma.org/Geo-GDAL/2.0/classGeo_1_1GDAL_1_1GeoTransform.html#details\n",
    "\n",
    "# NOTE: pixel coordinate (0, 0) is the top left pixel of the image\n",
    "\n",
    "def transform_pixel_coords_to_projection_coords(gt, column, row):\n",
    "    a,b,c,d,e,f = gt\n",
    "    x = a + column * b + row * c\n",
    "    y = d + column * e + row * f\n",
    "    \n",
    "    return x,y"
   ]
  },
  {
   "cell_type": "code",
   "execution_count": 10,
   "id": "a1a26535",
   "metadata": {},
   "outputs": [],
   "source": [
    "# Transforms pixel coordinate (column, row) of dataset to WGS84 geographic coordinates\n",
    "\n",
    "def transform_image_pixel_coords_to_WGS84_geographic_coords(ds, column, row):\n",
    "    # Input coordinate system: specified in input tif file\n",
    "    InSR = osr.SpatialReference()\n",
    "    InSR.ImportFromWkt(ds.GetProjectionRef())\n",
    "    \n",
    "    # Output coordinate system: WGS84/Geographic\n",
    "    OutSR = osr.SpatialReference()\n",
    "    OutSR.ImportFromEPSG(4326)\n",
    "    \n",
    "    # get pixel width and height of image\n",
    "    width = ds.RasterXSize \n",
    "    height = ds.RasterYSize \n",
    "    \n",
    "    # transformation from pixel coordinates to projection coordinates\n",
    "    gt = ds.GetGeoTransform()\n",
    "    \n",
    "    # Transform top left pixel coordinate (0, 0) to projection coordinates\n",
    "    x,y = transform_pixel_coords_to_projection_coords(gt, 0, 0)\n",
    "    \n",
    "    # transformation from projection coordinates to WGS84 geographic coordinates\n",
    "    transform = osr.CoordinateTransformation(InSR, OutSR)\n",
    "    \n",
    "    # geographic latitude and longitude of point\n",
    "    latlong = transform.TransformPoint(x,y)\n",
    "    \n",
    "    return latlong"
   ]
  },
  {
   "cell_type": "code",
   "execution_count": 11,
   "id": "56ce75f8",
   "metadata": {},
   "outputs": [
    {
     "name": "stdout",
     "output_type": "stream",
     "text": [
      "(12.86308254761559, 77.5151947517078, 0.0)\n"
     ]
    }
   ],
   "source": [
    "latlong = transform_image_pixel_coords_to_WGS84_geographic_coords(ds, 0, 0)\n",
    "\n",
    "print(latlong)"
   ]
  }
 ],
 "metadata": {
  "kernelspec": {
   "display_name": "RT-env",
   "language": "python",
   "name": "rt-env"
  },
  "language_info": {
   "codemirror_mode": {
    "name": "ipython",
    "version": 3
   },
   "file_extension": ".py",
   "mimetype": "text/x-python",
   "name": "python",
   "nbconvert_exporter": "python",
   "pygments_lexer": "ipython3",
   "version": "3.8.10"
  }
 },
 "nbformat": 4,
 "nbformat_minor": 5
}
